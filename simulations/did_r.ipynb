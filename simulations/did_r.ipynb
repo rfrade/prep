{
 "cells": [
  {
   "cell_type": "code",
   "execution_count": 1,
   "id": "391f1914-6edf-4840-97b9-a36453e1919d",
   "metadata": {},
   "outputs": [],
   "source": [
    "## How to install R packages:\n",
    "## conda install r-dplyr"
   ]
  },
  {
   "cell_type": "code",
   "execution_count": 2,
   "id": "f83ed5e2-8344-4c8c-9ce5-a772d239c1f3",
   "metadata": {},
   "outputs": [],
   "source": [
    "#IRkernel::installspec(user = FALSE)"
   ]
  },
  {
   "cell_type": "code",
   "execution_count": 3,
   "id": "a5adeb06-dfbc-46a5-bac4-a5996c07f154",
   "metadata": {},
   "outputs": [
    {
     "ename": "ERROR",
     "evalue": "Error in library(\"did\"): there is no package called ‘did’\n",
     "output_type": "error",
     "traceback": [
      "Error in library(\"did\"): there is no package called ‘did’\nTraceback:\n",
      "1. library(\"did\")"
     ]
    }
   ],
   "source": [
    "library(\"did\")"
   ]
  },
  {
   "cell_type": "code",
   "execution_count": null,
   "id": "95ce09f8-24f0-4bc2-b382-e97e9318b1f1",
   "metadata": {},
   "outputs": [],
   "source": [
    "#install.packages(\"did\", .libPaths(), repos='http://cran.us.r-project.org')"
   ]
  },
  {
   "cell_type": "code",
   "execution_count": null,
   "id": "4e1bb8af-e28a-425e-a7fe-7e103a42e358",
   "metadata": {},
   "outputs": [],
   "source": [
    ".libPaths()"
   ]
  }
 ],
 "metadata": {
  "kernelspec": {
   "display_name": "R",
   "language": "R",
   "name": "ir"
  },
  "language_info": {
   "codemirror_mode": "r",
   "file_extension": ".r",
   "mimetype": "text/x-r-source",
   "name": "R",
   "pygments_lexer": "r",
   "version": "4.2.3"
  }
 },
 "nbformat": 4,
 "nbformat_minor": 5
}
