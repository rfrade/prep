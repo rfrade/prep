{
 "cells": [
  {
   "cell_type": "markdown",
   "id": "153e5c2a-3eb7-41ea-bb54-4499bb6356c9",
   "metadata": {},
   "source": [
    "#### regression 1: gay x het"
   ]
  },
  {
   "cell_type": "code",
   "execution_count": null,
   "id": "ddab7309-7426-4b8e-b7cd-5cbfb6461e8c",
   "metadata": {},
   "outputs": [],
   "source": [
    "reg_data = cases.copy()\n",
    "treated = reg_data[ (reg_data[\"year\"] == 2018) & (reg_data[\"pct_new_users\"] > 0.4)].index\n",
    "reg_data = reg_data.loc[treated]\n",
    "\n",
    "filter18 = reg_data[ (reg_data[\"year\"] == 2018) & (reg_data[\"hiv_homo\"] > 20)].index\n",
    "reg_data = reg_data.loc[filter18]\n",
    "\n",
    "reg_data[\"post\"] = 0\n",
    "reg_data.loc[reg_data[\"year\"] == 2019, \"post\"] = 1\n",
    "\n",
    "reg_data = (reg_data.reset_index().melt(\n",
    "               id_vars=[\"name\",\"code\",\"year\"],\n",
    "               value_vars=[\"hiv_het_pct_change_follow_year\",\n",
    "                           \"hiv_homo_pct_change_follow_year\"],\n",
    "               var_name=\"group\")\n",
    ")\n",
    "reg_data.loc[reg_data[\"group\"] == \"hiv_het_pct_change_follow_year\",\"treated\"] = 0\n",
    "reg_data.loc[reg_data[\"group\"] == \"hiv_homo_pct_change_follow_year\",\"treated\"] = 1\n",
    "\n",
    "#reg_data.loc[reg_data[\"group\"] == \"hiv_het\",\"treated\"] = 0\n",
    "#reg_data.loc[reg_data[\"group\"] == \"hiv_homo\",\"treated\"] = 1\n",
    "\n",
    "reg_data = reg_data.query(\"year.isin([2015,2019])\")\n",
    "\n",
    "reg_data[\"pct_change\"] = reg_data[\"value\"]\n",
    "reg_data[\"log_cases\"] = reg_data[\"value\"].apply(np.log)\n",
    "\n",
    "#import statsmodels.formula.api as smf\n",
    "#\n",
    "#smf.ols('log_cases ~ treated*post ', data=reg_data).fit().summary().tables[1]"
   ]
  },
  {
   "cell_type": "code",
   "execution_count": null,
   "id": "2e9ab64d-c255-4d5b-b985-dc08574c12b2",
   "metadata": {},
   "outputs": [],
   "source": [
    "from linearmodels.panel import PanelOLS\n",
    "mod = PanelOLS.from_formula(\"log_cases ~ treated*post\",\n",
    "                            data=reg_data.set_index([\"code\",\"year\"]))\n",
    "\n",
    "result = mod.fit()\n",
    "# cov_type='clustered', cluster_entity=True\n",
    "# statsmodels\n",
    "result.summary.tables[1]"
   ]
  }
 ],
 "metadata": {
  "kernelspec": {
   "display_name": "Python 3 (ipykernel)",
   "language": "python",
   "name": "python3"
  },
  "language_info": {
   "codemirror_mode": {
    "name": "ipython",
    "version": 3
   },
   "file_extension": ".py",
   "mimetype": "text/x-python",
   "name": "python",
   "nbconvert_exporter": "python",
   "pygments_lexer": "ipython3",
   "version": "3.10.8"
  }
 },
 "nbformat": 4,
 "nbformat_minor": 5
}
