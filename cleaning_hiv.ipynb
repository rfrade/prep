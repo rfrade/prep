{
 "cells": [
  {
   "cell_type": "markdown",
   "id": "75f43781-1487-4a3d-98c6-26e80a0649f8",
   "metadata": {},
   "source": [
    "## CLEAN DATA"
   ]
  },
  {
   "cell_type": "markdown",
   "id": "1d0fc305-8dfe-45e9-8714-a80574ab8729",
   "metadata": {},
   "source": [
    "### hiv"
   ]
  },
  {
   "cell_type": "code",
   "execution_count": 14,
   "id": "78f680b2-14c3-437e-b4af-febaa8059ee5",
   "metadata": {},
   "outputs": [],
   "source": [
    "import pandas as pd\n",
    "import numpy as np\n",
    "\n",
    "path = \"data\"\n",
    "indicadores = pd.read_csv(f\"{path}/indicadores.csv\")\n",
    "\n",
    "common_cols = {\n",
    "    \"Código\": \"code\", \n",
    "    \"Nome Município\": \"name\",\n",
    "}\n",
    "\n",
    "cols_hiv_mf = {\n",
    "    \"Casos\":\"hiv_total\",\n",
    "    \"Casos M\":\"hiv_m\",\n",
    "    \"Casos F\":\"hiv_f\",\n",
    "    \"Tx Det\":\"hiv_dr_total\",\n",
    "    \"Tx Det M\":\"hiv_drm\",\n",
    "    \"Tx Det F\":\"hiv_drf\"\n",
    "}\n",
    "\n",
    "cases = pd.DataFrame()\n",
    "# city code and name\n",
    "for col_port, col_eng in common_cols.items():\n",
    "    cases.loc[:,col_eng] = indicadores[col_port]\n",
    "\n",
    "years_hiv = range(2013,2022)\n",
    "for year in years_hiv:\n",
    "    cases[year] = 0\n",
    "# create panel\n",
    "cases = (cases.melt(id_vars=[\"code\",\"name\"],\n",
    "                        value_vars=years_hiv)\n",
    "          .rename(columns={\"variable\":\"year\"})\n",
    "          .drop(\"value\",axis=1))\n",
    "\n",
    "sexuality_codes = {\n",
    "    \"Casos Categ. Exp. Hierarq. 10\":\"hiv_homo\",\n",
    "    \"Casos Categ. Exp. Hierarq. 20\":\"hiv_bi\",\n",
    "    \"Casos Categ. Exp. Hierarq. 30\":\"hiv_het\"\n",
    "}\n",
    "\n",
    "## add columns in 2nd file\n",
    "def add_rows(final_df, original_df, dict_translations, years, complete=[]):\n",
    "    for code, group in dict_translations.items():\n",
    "        #print(code, group)\n",
    "\n",
    "        cases_1group_all_years = pd.Series()\n",
    "        for year in years:\n",
    "            col_original = f\"{code} {year}\"\n",
    "            # the column year will have the cases of that year for that group\n",
    "            # so that I can just melt bellow\n",
    "            group_year_i = original_df[col_original]\n",
    "            cases_1group_all_years = pd.concat([cases_1group_all_years, group_year_i],\n",
    "                                               axis=0)\n",
    "\n",
    "        for y in complete:\n",
    "            cases_1group_all_years = pd.concat([cases_1group_all_years,\n",
    "                                               pd.Series([np.nan]*5657)],\n",
    "                                               axis=0)\n",
    "            \n",
    "\n",
    "        len_cases = len(cases_1group_all_years)\n",
    "        final_df = (final_df.assign(\n",
    "                new_col=cases_1group_all_years.values)\n",
    "                .rename(columns={\"new_col\":group}))\n",
    "    return final_df\n",
    "\n",
    "\n",
    "indicadores_2 = pd.read_csv(f\"{path}/indicadores_cont_2.csv\")\n",
    "\n",
    "cases = add_rows(cases, indicadores, cols_hiv_mf, years_hiv)\n",
    "cases = add_rows(cases, indicadores_2, sexuality_codes, years_hiv)"
   ]
  },
  {
   "cell_type": "markdown",
   "id": "efd96b3e-9df5-460a-a688-5b5a42dfe999",
   "metadata": {},
   "source": [
    "### hepatites"
   ]
  },
  {
   "cell_type": "code",
   "execution_count": 15,
   "id": "75d1762b-e719-46ea-9671-ad73800afd31",
   "metadata": {},
   "outputs": [],
   "source": [
    "hepatite_xls = pd.ExcelFile(f\"{path}/hepatite.xlsx\")\n",
    "\n",
    "hep_dados = pd.read_excel(hepatite_xls, \"DADOS\")\n",
    "hep_dados_cont = pd.read_excel(hepatite_xls, \"DADOS CONTINUAÇÃO 1\")\n",
    "#hep_popm = pd.read_excel(hepatite_xls, \"Pop.M\")\n",
    "#hep_popf = pd.read_excel(hepatite_xls, \"Pop.F\")\n",
    "\n",
    "hep_AB_cols = {\n",
    "    \"Hepatite A\":\"hep_a_total\",\n",
    "    \"Hepatite B\":\"hep_b_total\",\n",
    "    \"Hep B M\":\"hep_b_m\",\n",
    "    \"Hep B F\":\"hep_b_f\",\n",
    "    \"Tx Det Hep A\":\"hep_a_dr\",\n",
    "    \"Tx Det Hep B\":\"hep_b_dr\",\n",
    "    \"Tx Det M Hep A M\":\"hep_a_dr_m\",\n",
    "    \"Tx Det M Hep B M\":\"hep_b_dr_m\",\n",
    "    \"Tx Det F Hep A F\":\"hep_a_dr_f\",\n",
    "    \"Tx Det F Hep B F\":\"hep_b_dr_f\"\n",
    "}\n",
    "hep_C_cols = {\n",
    "    \"Hepatite C\":\"hep_c_total\",\n",
    "    \"Tx Det Hep C\":\"hep_c_dr\",\n",
    "    \"Tx Det M Hep C M\":\"hep_c_dr_m\",\n",
    "    \"Tx Det F Hep C F\":\"hep_c_dr_f\"\n",
    "}\n",
    "\n",
    "hep_populacao = pd.read_excel(hepatite_xls, \"População\")\n",
    "population = hep_populacao[[\"Código\",\"Nome Município\",2016]]\n",
    "population = population.rename(columns={\"Código\":\"code\",\n",
    "                                \"Nome Município\":\"name\",\n",
    "                                2016:\"population\"})\n",
    "\n",
    "years_hep = range(2013, 2021)#13-20\n",
    "\n",
    "cases = add_rows(cases, hep_dados, hep_AB_cols, years_hep, complete=[2021])\n",
    "cases = add_rows(cases, hep_dados_cont, hep_C_cols, years_hep, complete=[2021])"
   ]
  },
  {
   "cell_type": "markdown",
   "id": "19d781ec-8af9-4bb2-87a0-1a3202867820",
   "metadata": {},
   "source": [
    "#### cleaning"
   ]
  },
  {
   "cell_type": "code",
   "execution_count": 16,
   "id": "fd3b2f1f-174d-4d70-9c42-0a064f63c6b4",
   "metadata": {},
   "outputs": [],
   "source": [
    "cases = cases.set_index(\"code\")\n",
    "cases.loc[:, \"region_type\"] = \"city\"\n",
    "cases.loc[cases.index < 100, \"region_type\"] = \"state\"\n",
    "cases.loc[cases.index <= 10, \"region_type\"] = \"region\"\n",
    "cases.loc[55, \"region_type\"] = \"brazil\"\n",
    "cases = cases.reset_index()\n",
    "\n",
    "#### detection rate to numeric\n",
    "\n",
    "cases.loc[cases[\"hiv_dr_total\"]== '#DIV/0!', \"hiv_dr_total\"] = \"0\"\n",
    "cases.loc[cases[\"hiv_drf\"]== '#DIV/0!', \"hiv_drf\"] = \"0\"\n",
    "\n",
    "cases[\"hiv_dr_total\"] = cases[\"hiv_dr_total\"].str.replace(\",\",\".\").astype(float)\n",
    "cases[\"hiv_drf\"] = cases[\"hiv_drf\"].str.replace(\",\",\".\").astype(float)\n",
    "cases[\"hiv_drm\"] = cases[\"hiv_drm\"].str.replace(\",\",\".\").astype(float)"
   ]
  },
  {
   "cell_type": "markdown",
   "id": "854caa3a-600f-42d2-85a7-d438099293a9",
   "metadata": {},
   "source": [
    "#### add prep data"
   ]
  },
  {
   "cell_type": "code",
   "execution_count": 17,
   "id": "f68d7650-24db-4a26-a1a1-1383f373e7b8",
   "metadata": {},
   "outputs": [],
   "source": [
    "# percent treat pra todo mundo\n",
    "\n",
    "import pandas as pd\n",
    "prep = pd.DataFrame()\n",
    "for year in range(2018, 2023):\n",
    "    df = pd.read_csv(f\"data/prep{year}.csv\")\n",
    "    df[\"year\"] = year\n",
    "    prep = pd.concat([prep, df])\n",
    "prep_data = prep.groupby([\"city_code\", \"year\"]).tail(1)\n",
    "\n",
    "new_cases = (prep_data.set_index([\"city_code\",\"year\"])\n",
    "  .sort_values([\"city_code\",\"year\"])\n",
    "    .groupby(\"city_code\")\n",
    "    .agg( {\"following\":\"diff\"} )\n",
    "    .reset_index()\n",
    "    .rename(columns={\"following\":\"new_users\"}))\n",
    "prep_data = prep_data.merge(new_cases, left_on=[\"city_code\",\"year\"],\n",
    "                            right_on=[\"city_code\",\"year\"],how=\"left\")\n",
    "\n",
    "prep_data.loc[prep_data[\"year\"] == 2018, \"new_users\"] = prep_data[\"following\"]\n",
    "\n",
    "cases = cases.merge(prep_data, left_on=[\"code\",\"year\"],\n",
    "                right_on=[\"city_code\",\"year\"],\n",
    "                how=\"left\")\n",
    "cases.loc[cases[\"hiv_homo\"] == 0, \"pct_new_users\"] = 0\n",
    "cases.loc[cases[\"hiv_homo\"] != 0, \"pct_new_users\"] = cases[\"new_users\"]/cases[\"hiv_homo\"]\n",
    "cases.loc[cases[\"new_users\"] < 0, \"pct_new_users\"] = 0\n",
    "\n",
    "cases.loc[cases[\"hiv_homo\"] == 0, \"pct_following\"] = 0\n",
    "cases.loc[cases[\"hiv_homo\"] != 0, \"pct_following\"] = cases[\"following\"]/cases[\"hiv_homo\"]\n",
    "\n",
    "cases = cases.query(\"code != 0\")\n",
    "\n",
    "cases = cases.merge(population,\n",
    "            left_on=[\"code\",\"name\"],\n",
    "            right_on=[\"code\",\"name\"],\n",
    "            how=\"left\")"
   ]
  },
  {
   "cell_type": "markdown",
   "id": "d5c36c68-bdc7-4d6d-bba8-fcb5cee26028",
   "metadata": {},
   "source": [
    "### to csv"
   ]
  },
  {
   "cell_type": "code",
   "execution_count": 19,
   "id": "227f5eec-3ed0-42b3-a928-9c4f7c4b5d6c",
   "metadata": {},
   "outputs": [],
   "source": [
    "cases.to_csv(\"data/cases_cleaned.csv\", mode=\"w\", index=False)"
   ]
  },
  {
   "cell_type": "markdown",
   "id": "388b2689-1336-4177-a2e7-6dbd905e27da",
   "metadata": {},
   "source": [
    "#### ibge"
   ]
  },
  {
   "cell_type": "code",
   "execution_count": 22,
   "id": "fd7c5643-9d5f-4006-8023-35f68f4731e0",
   "metadata": {},
   "outputs": [
    {
     "name": "stderr",
     "output_type": "stream",
     "text": [
      "/tmp/ipykernel_90036/1638565219.py:5: SettingWithCopyWarning: \n",
      "A value is trying to be set on a copy of a slice from a DataFrame.\n",
      "Try using .loc[row_indexer,col_indexer] = value instead\n",
      "\n",
      "See the caveats in the documentation: https://pandas.pydata.org/pandas-docs/stable/user_guide/indexing.html#returning-a-view-versus-a-copy\n",
      "  cities.loc[:,\"state\"] = cities[\"code\"].astype(\"str\").str.slice(0, 2)\n"
     ]
    }
   ],
   "source": [
    "ibge = pd.read_excel(\"data/regioes_ibge.xls\")\n",
    "ibge[\"state\"] = ibge[\"CD_GEOCODI\"].astype(\"str\").str.slice(0, 2)\n",
    "\n",
    "cities = cases.query(\"region_type == 'city' \")\n",
    "cities.loc[:,\"state\"] = cities[\"code\"].astype(\"str\").str.slice(0, 2)\n",
    "\n",
    "ibge = ibge[[\"nome_mun\", \"state\", \"nome_rgi\", \"cod_rgi\"]]\n",
    "ibge = ibge.rename(columns={\"nome_mun\":\"name\",\n",
    "                            \"nome_rgi\":\"region_name\",\n",
    "                            \"cod_rgi\":\"region_code\"})\n",
    "cities = cities.merge(ibge, left_on=[\"state\",\"name\"],\n",
    "                    right_on=[\"state\",\"name\"],\n",
    "                    how=\"inner\")"
   ]
  },
  {
   "cell_type": "code",
   "execution_count": 25,
   "id": "69a13141-6daa-47ab-a79c-0d9e783c9064",
   "metadata": {},
   "outputs": [],
   "source": [
    "#regions\n",
    "import numpy as np\n",
    "regions = (cities.set_index([\"region_code\",\"region_name\",\"year\"])\n",
    "        .groupby([\"region_code\",\"region_name\",\"year\"])\n",
    "        .agg(\n",
    "            {\"hiv_total\":\"sum\",\n",
    "              \"hiv_homo\":\"sum\",\n",
    "              \"hiv_het\":\"sum\",\n",
    "              \"hiv_bi\":\"sum\",\n",
    "              \"hiv_f\":\"sum\",\n",
    "              \"hep_b_total\":\"sum\",\n",
    "              \"hep_b_m\":\"sum\",\n",
    "              \"hep_b_f\":\"sum\",\n",
    "              \"following\":\"sum\",\n",
    "              \"loss_of_follow\":\"sum\",\n",
    "              \"new_users\":\"sum\",\n",
    "              \"population\":\"sum\"\n",
    "             })\n",
    "        .reset_index())\n",
    "regions.to_csv(\"data/regions.csv\", mode=\"w\", index=False)"
   ]
  }
 ],
 "metadata": {
  "kernelspec": {
   "display_name": "Python 3 (ipykernel)",
   "language": "python",
   "name": "python3"
  },
  "language_info": {
   "codemirror_mode": {
    "name": "ipython",
    "version": 3
   },
   "file_extension": ".py",
   "mimetype": "text/x-python",
   "name": "python",
   "nbconvert_exporter": "python",
   "pygments_lexer": "ipython3",
   "version": "3.10.8"
  }
 },
 "nbformat": 4,
 "nbformat_minor": 5
}
